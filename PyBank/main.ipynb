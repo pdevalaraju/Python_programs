{
 "cells": [
  {
   "cell_type": "code",
   "execution_count": 6,
   "metadata": {},
   "outputs": [
    {
     "name": "stdout",
     "output_type": "stream",
     "text": [
      "PyBank Financial Analysis\n",
      "-------------------------\n",
      "Total Months : 86\n",
      "Total Revenue : $ 38382578\n",
      "Average Change in Profits each month : $ -2315\n",
      "Greatest Increase in Profits: $1926159 in the month of : Feb-2012\n",
      "Greatest Decrease in Profits: $-2196167 in the month of : Sep-2013\n",
      "\n"
     ]
    }
   ],
   "source": [
    "#Solution\n",
    "# import CSV module\n",
    "#declare a few variables - tot_pnl for total Revenue, \n",
    "#pnl_var for monthly variance in revenue as a list so you can store while reading the rows\n",
    "#pre_mnth_val for storing previous month revenue that is used to calculate the variance\n",
    "#variance for storing the amount of change each month\n",
    "#open the file, setting the reader pointing to the data file handler which opened the budgetdata file in read mode\n",
    "#for each row in the data file, there are two columns, whic are referred as lists by calling them row[0], row[1]\n",
    "#count the number of months by looping through the rows and increment the counter.\n",
    "#append the pnl_var list with monthly variance by subtracting current row rev and previous rev.\n",
    "#increment tot_pnl to sum up all months revenue. \n",
    "#using the pnl_val list, you can get the max, min and average variance  across the months.\n",
    "\n",
    "import csv\n",
    "num_months=0\n",
    "tot_pnl = 0\n",
    "pnl_var = []\n",
    "pre_mnth_val = 0\n",
    "variance = 0\n",
    "pre_mnth_val = 0\n",
    "\n",
    "with open('./Resources/budget_data.csv', 'r', newline='') as datafile:\n",
    "    reader = csv.reader(datafile)\n",
    "    next(reader)\n",
    "    for row in reader:\n",
    "        num_months += 1\n",
    "        variance = int(row[1]) - pre_mnth_val\n",
    "        pnl_var.append(int(row[1]) - pre_mnth_val)\n",
    "        tot_pnl = tot_pnl + int(row[1])\n",
    "        pre_mnth_val = int(row[1])\n",
    "        if variance == int(max(pnl_var)):\n",
    "            max_date = row[0]\n",
    "        elif variance == int(min(pnl_var)):    \n",
    "            min_date = row[0]\n",
    "        pre_mnth_val = int(row[1])\n",
    "   \n",
    "#remove the 1st months value becuase you wouldnt find variance as it is the first month\n",
    "pnl_var.pop(0)  \n",
    "\n",
    "#format the output into a string\n",
    "\n",
    "txt_output = \"PyBank Financial Analysis\" + '\\n' + \"-------------------------\" \n",
    "txt_output = txt_output + '\\n' + 'Total Months : ' + str(num_months) + '\\n'\n",
    "txt_output = txt_output + 'Total Revenue : $ ' + str(tot_pnl) + '\\n'\n",
    "txt_output = txt_output + 'Average Change in Profits each month : $ ' + str(int(sum(pnl_var) / len(pnl_var))) + '\\n'\n",
    "txt_output = txt_output + 'Greatest Increase in Profits: $' + str(max(pnl_var))  + \" in the month of : \" + max_date + '\\n'\n",
    "txt_output = txt_output + 'Greatest Decrease in Profits: $' + str(min(pnl_var)) + \" in the month of : \" + min_date + '\\n'\n",
    "\n",
    "#print the output on the screen\n",
    "print(txt_output)\n",
    "\n",
    "#write the output to a text file\n",
    "#open a text file in the same folder\n",
    "#write the text and close the file\n",
    "\n",
    "with open('fin_analysis.txt', 'w') as txt_file:\n",
    "    txt_file.write(txt_output)\n",
    "\n",
    "txt_file.close()\n",
    "\n",
    "\n"
   ]
  },
  {
   "cell_type": "code",
   "execution_count": null,
   "metadata": {},
   "outputs": [],
   "source": []
  },
  {
   "cell_type": "code",
   "execution_count": null,
   "metadata": {},
   "outputs": [],
   "source": []
  },
  {
   "cell_type": "code",
   "execution_count": null,
   "metadata": {},
   "outputs": [],
   "source": []
  },
  {
   "cell_type": "code",
   "execution_count": null,
   "metadata": {},
   "outputs": [],
   "source": []
  },
  {
   "cell_type": "code",
   "execution_count": null,
   "metadata": {},
   "outputs": [],
   "source": []
  }
 ],
 "metadata": {
  "kernelspec": {
   "display_name": "Python 3",
   "language": "python",
   "name": "python3"
  },
  "language_info": {
   "codemirror_mode": {
    "name": "ipython",
    "version": 3
   },
   "file_extension": ".py",
   "mimetype": "text/x-python",
   "name": "python",
   "nbconvert_exporter": "python",
   "pygments_lexer": "ipython3",
   "version": "3.7.6"
  }
 },
 "nbformat": 4,
 "nbformat_minor": 4
}
