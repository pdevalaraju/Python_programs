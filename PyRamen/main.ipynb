{
 "cells": [
  {
   "cell_type": "code",
   "execution_count": 16,
   "metadata": {},
   "outputs": [],
   "source": [
    "#PyRamen Analysis\n",
    "import csv\n",
    "\n",
    "# initialize a dictionary for capturing Menu details - item, price, cost\n",
    "menu_dict = {} \n",
    "sales_report ={}\n",
    "sales_dict = {} \n",
    "srow_count = 0\n",
    "#open csv reader to read menu data file\n",
    "with open('./Resources/menu_data.csv', 'r', newline='') as menu_data:\n",
    "    \n",
    "    menu_reader = csv.DictReader(menu_data)\n",
    "    for mrow in menu_reader:\n",
    "        menu_dict[mrow['item']] = mrow['price'], mrow['cost']\n",
    "        quantity=0   \n",
    "#open csv reader to read the sales data file\n",
    "# initialize a dictionary for capturing sales data - item & quanity\n",
    "        with open('./Resources/sales_data.csv', 'r', newline='') as sales_data:\n",
    "            sales_reader = csv.reader(sales_data)\n",
    "            next(sales_reader) \n",
    "            for srow in sales_reader:\n",
    "                if str(srow[4]) == str(mrow['item']):\n",
    "                    quantity = quantity + int(srow[3])\n",
    "                    sales_dict[srow[4]] = quantity\n",
    "\n",
    "item_report = {\"01-count\": 0, \"02-revenue\": 0, \"03-cogs\": 0, \"04-profit\": 0 }\n",
    "#sales report disctionary to summarize the report\n",
    "\n",
    "\n",
    "#initialize a few variables to calculate price, cost and profit\n",
    "price = 0\n",
    "cost = 0\n",
    "profit =0\n",
    "\n",
    "#read through sales dictionary while comparing against menu dictionary to find matching menu items and calculate the results\n",
    "#use nested loops to read for each of the menu item in sales dictionary\n",
    "for sales_item in sales_dict:\n",
    "    for menu_item in menu_dict:\n",
    "        if sales_item == menu_item:\n",
    " \n",
    "            price = int(sales_dict[sales_item]) * int(menu_dict[menu_item][0])\n",
    "            cost = int(sales_dict[sales_item]) * int(menu_dict[menu_item][1])\n",
    "            profit = price - cost\n",
    "\n",
    "            item_report = {\"01-count\": sales_dict[sales_item], \"02-revenue\": price, \"03-cogs\": cost, \"04-profit\": profit }\n",
    "        sales_report[sales_item]= item_report\n",
    "\n",
    "#write sales_report to text file\n",
    "with open('PyRamen_Sales_Analysis_Report.txt', 'w') as txt_file:\n",
    "    for item in sales_report:\n",
    "             txt_file.write(item) \n",
    "             txt_file.write(\" \" + str(sales_report[item]))\n",
    "             txt_file.write('\\n')   \n",
    "txt_file.close()\n",
    "sales_dict = {} \n"
   ]
  },
  {
   "cell_type": "code",
   "execution_count": null,
   "metadata": {},
   "outputs": [],
   "source": []
  },
  {
   "cell_type": "code",
   "execution_count": null,
   "metadata": {},
   "outputs": [],
   "source": []
  },
  {
   "cell_type": "code",
   "execution_count": null,
   "metadata": {},
   "outputs": [],
   "source": []
  }
 ],
 "metadata": {
  "kernelspec": {
   "display_name": "Python 3",
   "language": "python",
   "name": "python3"
  },
  "language_info": {
   "codemirror_mode": {
    "name": "ipython",
    "version": 3
   },
   "file_extension": ".py",
   "mimetype": "text/x-python",
   "name": "python",
   "nbconvert_exporter": "python",
   "pygments_lexer": "ipython3",
   "version": "3.7.6"
  }
 },
 "nbformat": 4,
 "nbformat_minor": 4
}
