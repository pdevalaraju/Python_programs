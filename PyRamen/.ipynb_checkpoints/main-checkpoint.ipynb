{
 "cells": [
  {
   "cell_type": "code",
   "execution_count": 1,
   "metadata": {},
   "outputs": [],
   "source": [
    "#PyRamen Analysis\n",
    "import csv\n",
    "\n",
    "# initialize empty dictionaries for capturing Menu & sales details - item, quantity, price, cost\n",
    "\n",
    "menu_dict = {} \n",
    "sales_dict = {} \n",
    "\n",
    "#define function to populate sales dictionary\n",
    "def append_dict(item, quantity, price, cost):\n",
    "            sales_dict[item] = {\"01-count\": 0, \"02-revenue\": 0, \"03-cogs\": 0, \"04-profit\": 0 }\n",
    "            sales_dict[item][\"01-count\"] = quantity\n",
    "            sales_dict[item][\"02-revenue\"] = quantity * price\n",
    "            sales_dict[item][\"03-cogs\"] = quantity * cost\n",
    "            sales_dict[item][\"04-profit\"] = quantity* (price-cost)\n",
    "            return sales_dict\n",
    "\n",
    "#define function to write into a file\n",
    "def wirte_to_file(salesdict):\n",
    "            for k in salesdict:\n",
    "                txt_file.write(k + str(salesdict[k]))\n",
    "                txt_file.write('\\n')   \n",
    "            return\n",
    "\n",
    "#read the file data into dictionaries\n",
    "#open csv reader to read menu data file\n",
    "with open('./Resources/menu_data.csv', 'r', newline='') as menu_data:\n",
    "    menu_reader = csv.DictReader(menu_data)\n",
    "    for mrow in menu_reader:\n",
    "        menu_dict[mrow['item']] = mrow['price'], mrow['cost']\n",
    "        quantity=0   \n",
    "        item = \"\"\n",
    "\n",
    "#open csv reader to read the sales data file\n",
    "# initialize a dictionary for capturing sales data - item & quanity\n",
    "        with open('./Resources/sales_data.csv', 'r', newline='') as sales_data:\n",
    "            sales_reader = csv.reader(sales_data)\n",
    "            for srow in sales_reader:\n",
    "                if str(mrow['item']) == str(srow[4]):\n",
    "                    quantity = quantity + int(srow[3])\n",
    "                    item = srow[4]\n",
    "\n",
    "#call the functions             \n",
    "        if quantity > 0 and mrow['item'] == item:\n",
    "            append_dict(item, quantity, int(mrow['price']), int(mrow['cost']))\n",
    "\n",
    "with open('PyRamen_Sales_Analysis_Report.txt', 'w') as txt_file:\n",
    "    wirte_to_file(sales_dict)\n",
    "\n",
    "#close the text file and release the memory from the dictionaries\n",
    "txt_file.close()\n",
    "menu_dict = {} \n",
    "sales_dict = {} \n"
   ]
  }
 ],
 "metadata": {
  "kernelspec": {
   "display_name": "Python 3",
   "language": "python",
   "name": "python3"
  },
  "language_info": {
   "codemirror_mode": {
    "name": "ipython",
    "version": 3
   },
   "file_extension": ".py",
   "mimetype": "text/x-python",
   "name": "python",
   "nbconvert_exporter": "python",
   "pygments_lexer": "ipython3",
   "version": "3.7.6"
  }
 },
 "nbformat": 4,
 "nbformat_minor": 4
}
